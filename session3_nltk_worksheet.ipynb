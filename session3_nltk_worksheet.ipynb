{
  "cells": [
    {
      "cell_type": "markdown",
      "metadata": {
        "id": "view-in-github",
        "colab_type": "text"
      },
      "source": [
        "<a href=\"https://colab.research.google.com/github/ellenwang995/week3_NLTK/blob/main/session3_nltk_worksheet.ipynb\" target=\"_parent\"><img src=\"https://colab.research.google.com/assets/colab-badge.svg\" alt=\"Open In Colab\"/></a>"
      ]
    },
    {
      "cell_type": "markdown",
      "id": "f6603cae",
      "metadata": {
        "id": "f6603cae"
      },
      "source": [
        "\n",
        "# 📝 Python for Public Policy — Session 3 Worksheet  \n",
        "**Theme:** Text Analysis with NLTK (Inaugural Speeches or Your Own `.txt`)\n",
        "\n",
        "Use this notebook during the 60‑minute student-driven block. **No presentations** at the end.  \n",
        "You may analyze an NLTK inaugural speech **or** upload your own plain text file (`.txt`).\n",
        "\n",
        "**Timing guide:**  \n",
        "- Part A: 10 min · Part B: 10 min · Part C: 10 min · Part D: 10 min · Part E: 10 min · Part F: 10 min\n"
      ]
    },
    {
      "cell_type": "markdown",
      "id": "f5a58467",
      "metadata": {
        "id": "f5a58467"
      },
      "source": [
        "\n",
        "## Part 0 — Setup (run once)\n",
        "Upgrade NLTK (Colab often pins an older version) and download the datasets we need.\n"
      ]
    },
    {
      "cell_type": "code",
      "execution_count": 1,
      "id": "68206010",
      "metadata": {
        "id": "68206010",
        "colab": {
          "base_uri": "https://localhost:8080/"
        },
        "outputId": "bf83762c-0ce5-4f42-f58b-043a02cd34d2"
      },
      "outputs": [
        {
          "output_type": "stream",
          "name": "stdout",
          "text": [
            "\u001b[?25l   \u001b[90m━━━━━━━━━━━━━━━━━━━━━━━━━━━━━━━━━━━━━━━━\u001b[0m \u001b[32m0.0/1.5 MB\u001b[0m \u001b[31m?\u001b[0m eta \u001b[36m-:--:--\u001b[0m\r\u001b[2K   \u001b[91m━━━━━\u001b[0m\u001b[90m╺\u001b[0m\u001b[90m━━━━━━━━━━━━━━━━━━━━━━━━━━━━━━━━━━\u001b[0m \u001b[32m0.2/1.5 MB\u001b[0m \u001b[31m5.3 MB/s\u001b[0m eta \u001b[36m0:00:01\u001b[0m\r\u001b[2K   \u001b[91m━━━━━━━━━━━━━━━━━━━━━━━━━━━━━━━━\u001b[0m\u001b[90m╺\u001b[0m\u001b[90m━━━━━━━\u001b[0m \u001b[32m1.2/1.5 MB\u001b[0m \u001b[31m14.3 MB/s\u001b[0m eta \u001b[36m0:00:01\u001b[0m\r\u001b[2K   \u001b[91m━━━━━━━━━━━━━━━━━━━━━━━━━━━━━━━━━━━━━━━\u001b[0m\u001b[91m╸\u001b[0m \u001b[32m1.5/1.5 MB\u001b[0m \u001b[31m14.9 MB/s\u001b[0m eta \u001b[36m0:00:01\u001b[0m\r\u001b[2K   \u001b[90m━━━━━━━━━━━━━━━━━━━━━━━━━━━━━━━━━━━━━━━━\u001b[0m \u001b[32m1.5/1.5 MB\u001b[0m \u001b[31m10.3 MB/s\u001b[0m eta \u001b[36m0:00:00\u001b[0m\n",
            "\u001b[?25hNLTK version: 3.9.2\n"
          ]
        }
      ],
      "source": [
        "\n",
        "# We upgrade NLTK to the latest version so functions and data work as expected.\n",
        "!pip -q install -U nltk\n",
        "\n",
        "# Now we import nltk and download only the small packages we need for this session.\n",
        "import nltk\n",
        "needed = [\"punkt_tab\",           # tokenizer (splits text into words)\n",
        "          \"stopwords\",       # list of common words to remove (the, and, is, ...)\n",
        "          \"wordnet\",         # lexical database used for lemmatization (getting word roots)\n",
        "          \"averaged_perceptron_tagger_eng\",  # part-of-speech tagger (N/V/Adj/Adv)\n",
        "          \"inaugural\"]       # a small corpus of U.S. inaugural addresses\n",
        "for pkg in needed:\n",
        "    nltk.download(pkg, quiet=True) # no status text printed - just downloads\n",
        "\n",
        "print(\"NLTK version:\", nltk.__version__)\n"
      ]
    },
    {
      "cell_type": "markdown",
      "id": "5b9e4e1d",
      "metadata": {
        "id": "5b9e4e1d"
      },
      "source": [
        "\n",
        "## Part A — Pick Your Text (10 min)\n",
        "Choose **one** source below.\n",
        "\n",
        "### Option 1 — Use the built-in Inaugural Speeches corpus\n"
      ]
    },
    {
      "cell_type": "code",
      "execution_count": 39,
      "id": "40d2ad51",
      "metadata": {
        "id": "40d2ad51",
        "colab": {
          "base_uri": "https://localhost:8080/"
        },
        "outputId": "5de41d1c-60ae-454f-e064-a56f18dbdc6a"
      },
      "outputs": [
        {
          "output_type": "stream",
          "name": "stdout",
          "text": [
            "Analyzing: 2005-Bush.txt | characters: 12018\n",
            "Analyzing: 2001-Bush.txt | characters: 9053\n"
          ]
        }
      ],
      "source": [
        "\n",
        "from nltk.corpus import inaugural\n",
        "fileids = inaugural.fileids()\n",
        "fileids[:10]  # preview a few\n",
        "# Choose one speech (change the index or pick a specific filename from 'fileids')\n",
        "s1, s2 = fileids[-6], fileids[-7]\n",
        "raw, raw2 = inaugural.raw(s1), inaugural.raw(s2)\n",
        "print(\"Analyzing:\", s1, \"| characters:\", len(raw))\n",
        "print(\"Analyzing:\", s2, \"| characters:\", len(raw2))\n"
      ]
    },
    {
      "cell_type": "markdown",
      "id": "71e8e1a3",
      "metadata": {
        "id": "71e8e1a3"
      },
      "source": [
        "\n",
        "### Option 2 — Upload your own `.txt`\n",
        "> Must be **plain text** (e.g., speech, policy memo, report). If you upload multiple files, we’ll read the first one.\n",
        "\n",
        "\n",
        "If you don’t already have a `.txt` file (like the inaugural corpus examples), you can **make one directly in Colab**.  \n",
        "This is helpful if you want to analyze text copied from a website, a PDF, or your own writing.\n",
        "\n",
        "📝 Example: paste any text (such as a news article, policy speech, or blog post) into the triple quotes below."
      ]
    },
    {
      "cell_type": "code",
      "execution_count": 6,
      "id": "02ed2b83",
      "metadata": {
        "id": "02ed2b83",
        "colab": {
          "base_uri": "https://localhost:8080/"
        },
        "outputId": "135a5051-2323-4345-fe77-9deb14680565"
      },
      "outputs": [
        {
          "output_type": "stream",
          "name": "stdout",
          "text": [
            "✅ Saved mytext.txt\n",
            "Paste your speech or policy text here.\n",
            "You can copy/paste from a website or document.\n",
            "Keep it short at first (a few paragraphs).\n"
          ]
        }
      ],
      "source": [
        "\n",
        "# Create a plain-text file in Colab\n",
        "text = \"\"\"Paste your speech or policy text here.\n",
        "You can copy/paste from a website or document.\n",
        "Keep it short at first (a few paragraphs).\"\"\"\n",
        "\n",
        "# Write the text into a .txt file\n",
        "with open(\"mytext.txt\", \"w\", encoding=\"utf-8\") as f:\n",
        "    f.write(text)\n",
        "\n",
        "print(\"✅ Saved mytext.txt\")\n",
        "\n",
        "# Load your saved .txt file\n",
        "with open(\"mytext.txt\", encoding=\"utf-8\") as f:\n",
        "    raw = f.read()\n",
        "\n",
        "print(raw[:500])  # print first 500 characters\n",
        "\n"
      ]
    },
    {
      "cell_type": "markdown",
      "id": "f60cb2b1",
      "metadata": {
        "id": "f60cb2b1"
      },
      "source": [
        "\n",
        "**Q:** Which text did you choose and why? *(Write a 1–2 sentence note below.)*\n"
      ]
    },
    {
      "cell_type": "code",
      "execution_count": 7,
      "id": "b98b454a",
      "metadata": {
        "id": "b98b454a",
        "colab": {
          "base_uri": "https://localhost:8080/"
        },
        "outputId": "bfd29c78-3d7e-4f6f-a125-d78d289a12ca"
      },
      "outputs": [
        {
          "output_type": "stream",
          "name": "stdout",
          "text": [
            "\n",
            "(Explain your choice here.)\n",
            "\n"
          ]
        }
      ],
      "source": [
        "\n",
        "# Your short reflection:\n",
        "choice_note = \"\"\"\n",
        "(Explain your choice here.)\n",
        "\"\"\"\n",
        "print(choice_note)\n"
      ]
    },
    {
      "cell_type": "markdown",
      "id": "7fc2e3e5",
      "metadata": {
        "id": "7fc2e3e5"
      },
      "source": [
        "\n",
        "## Part B — Tokenize & Explore (10 min)\n",
        "Lowercase and keep only alphabetic tokens (drop punctuation/numbers) for a quick clean view.\n"
      ]
    },
    {
      "cell_type": "code",
      "execution_count": 53,
      "id": "ea7ba1f7",
      "metadata": {
        "id": "ea7ba1f7",
        "colab": {
          "base_uri": "https://localhost:8080/"
        },
        "outputId": "fea08401-50bb-4d3a-db24-4498c5d4e312"
      },
      "outputs": [
        {
          "output_type": "stream",
          "name": "stdout",
          "text": [
            "2018 ['vice', 'president', 'cheney', 'chief', 'justice', 'president', 'carter', 'president', 'bush', 'president']\n",
            "1582 ['president', 'clinton', 'distinguished', 'guests', 'and', 'my', 'fellow', 'citizens', 'the', 'peaceful']\n"
          ]
        }
      ],
      "source": [
        "\n",
        "from nltk.tokenize import word_tokenize\n",
        "\n",
        "# Tokenize: split into tokens, lowercase them, keep alphabetic tokens only\n",
        "tokens1 = [w.lower() for w in word_tokenize(raw) if w.isalpha()]\n",
        "print(len(tokens), tokens[:10])\n",
        "\n",
        "tokens2 = [w.lower() for w in word_tokenize(raw2) if w.isalpha()]\n",
        "print(len(tokens2), tokens2[:10])\n"
      ]
    },
    {
      "cell_type": "code",
      "source": [
        "import re\n",
        "import nltk\n",
        "from nltk.corpus import stopwords, wordnet\n",
        "from nltk.stem import WordNetLemmatizer\n",
        "from nltk import pos_tag, FreqDist\n",
        "from nltk.tokenize import RegexpTokenizer\n",
        "\n",
        "def wordnet_pos(tag):\n",
        "    return {\"J\": wordnet.ADJ, \"N\": wordnet.NOUN, \"V\": wordnet.VERB, \"R\": wordnet.ADV}.get(tag[0], wordnet.NOUN)\n",
        "\n",
        "def tokenize_norm(text):\n",
        "    tok = RegexpTokenizer(r\"[A-Za-z0-9]+\")\n",
        "    return [t.lower() for t in tok.tokenize(text)]\n",
        "\n",
        "\n",
        "def remove_stopwords(toks):\n",
        "    stops = set(stopwords.words(\"english\"))\n",
        "    return [t for t in toks if t not in stops]\n",
        "\n",
        "def pos_lemmatize(toks):\n",
        "    tags = pos_tag(toks)\n",
        "    lem = WordNetLemmatizer()\n",
        "    return [lem.lemmatize(t, wordnet_pos(tag)) for t, tag in tags]\n",
        "\n",
        "def run_pipeline(text):\n",
        "    toks = tokenize_norm(text)\n",
        "    toks_nostop = remove_stopwords(toks)\n",
        "    clean = pos_lemmatize(toks_nostop)\n",
        "    return toks, toks_nostop, clean\n",
        "\n",
        "toks, toks_nostop, clean = run_pipeline(raw)\n",
        "print(\"Speech:\", s1)\n",
        "print(\"Counts -> toks:\", len(toks), \"| no-stop:\", len(toks_nostop), \"| clean:\", len(clean))\n",
        "print(\"Top 10 (clean):\", FreqDist(clean).most_common(10))\n",
        "\n",
        "toks, toks_nostop, clean = run_pipeline(raw2)\n",
        "print(\"Speech:\", s2)\n",
        "print(\"Counts -> toks:\", len(toks), \"| no-stop:\", len(toks_nostop), \"| clean:\", len(clean))\n",
        "print(\"Top 10 (clean):\", FreqDist(clean).most_common(10))"
      ],
      "metadata": {
        "colab": {
          "base_uri": "https://localhost:8080/"
        },
        "id": "8CGYY3r8diQu",
        "outputId": "d7cad2f3-819b-4448-bc60-85859404819f"
      },
      "id": "8CGYY3r8diQu",
      "execution_count": 54,
      "outputs": [
        {
          "output_type": "stream",
          "name": "stdout",
          "text": [
            "Speech: 2005-Bush.txt\n",
            "Counts -> toks: 2087 | no-stop: 1044 | clean: 1044\n",
            "Top 10 (clean): [('freedom', 27), ('america', 20), ('liberty', 15), ('nation', 12), ('every', 10), ('one', 9), ('country', 8), ('time', 8), ('see', 8), ('come', 8)]\n",
            "Speech: 2001-Bush.txt\n",
            "Counts -> toks: 1594 | no-stop: 776 | clean: 776\n",
            "Top 10 (clean): [('nation', 13), ('america', 11), ('u', 11), ('story', 10), ('country', 9), ('citizen', 8), ('american', 8), ('live', 7), ('time', 7), ('call', 6)]\n"
          ]
        }
      ]
    },
    {
      "cell_type": "markdown",
      "id": "662866aa",
      "metadata": {
        "id": "662866aa"
      },
      "source": [
        "\n",
        "**Questions:**  \n",
        "1) How many tokens (words) are in your text?  \n",
        "2) List 5 tokens you expected to see. Were they present?\n"
      ]
    },
    {
      "cell_type": "markdown",
      "id": "9c014826",
      "metadata": {
        "id": "9c014826"
      },
      "source": [
        "\n",
        "## Part C — Keyword in Context (10 min)\n",
        "Use *concordance* to see your keywords in context.\n"
      ]
    },
    {
      "cell_type": "code",
      "execution_count": 71,
      "id": "21a6358a",
      "metadata": {
        "id": "21a6358a",
        "colab": {
          "base_uri": "https://localhost:8080/"
        },
        "outputId": "0670847b-f421-4231-a0f9-cea76c199f9f"
      },
      "outputs": [
        {
          "output_type": "stream",
          "name": "stdout",
          "text": [
            "Concordance for 2005-Bush.txt \n",
            "\n",
            "Displaying 3 of 3 matches:\n",
            " the urgent requirement of our security and the calling of our time so\n",
            " citizens find the dignity and security of economic independence inste\n",
            "d the homestead act the social security act and the bill of rights and\n",
            "Displaying 12 of 24 matches:\n",
            "ntury america defended our own freedom by standing watch on distant b\n",
            "and that is the force of human freedom we are led by events and commo\n",
            " our world is the expansion of freedom in all the world vital interes\n",
            "y force of arms when necessary freedom by its nature must be chosen a\n",
            "eir own voice attain their own freedom and make their own way the gre\n",
            "sion which is always wrong and freedom which is eternally right ameri\n",
            "un there is no justice without freedom and there can be no human righ\n",
            "ned by the swiftest advance of freedom ever seen is an odd time for d\n",
            " ideals eventually the call of freedom comes to every mind and every \n",
            "s abraham lincoln did who deny freedom to others deserve it not for t\n",
            "f millions have achieved their freedom and as hope kindles hope milli\n",
            "d one day this untamed fire of freedom will reach the darkest corners\n",
            "\n",
            "\n",
            "\n",
            "Concordance for 2001-Bush.txt \n",
            "\n",
            "Displaying 1 of 1 matches:\n",
            "ng lives we will reform social security and medicare sparing our child\n",
            "Displaying 5 of 5 matches:\n",
            "ciety that became a servant of freedom the story of a power that went\n",
            " last century america faith in freedom and democracy was a rock in a \n",
            "try does not lead the cause of freedom it will not be led if we do no\n",
            "a balance of power that favors freedom we will defend our allies and \n",
            "cy which give direction to our freedom sometimes in life we are calle\n"
          ]
        }
      ],
      "source": [
        "\n",
        "from nltk.text import Text\n",
        "T = Text(tokens1)\n",
        "\n",
        "# Try two policy keywords of interest (edit these):\n",
        "print(\"Concordance for\", s1, \"\\n\")\n",
        "T.concordance(\"security\", width=70, lines=12)\n",
        "T.concordance(\"freedom\", width=70, lines=12)\n",
        "\n",
        "T2 = Text(tokens2)\n",
        "print(\"\\n\\n\")\n",
        "print(\"Concordance for\", s2, \"\\n\")\n",
        "T2.concordance(\"security\", width=70, lines=12)\n",
        "T2.concordance(\"freedom\", width=70, lines=12)\n",
        "\n",
        "\n",
        "\n",
        "\n",
        "\n"
      ]
    },
    {
      "cell_type": "markdown",
      "id": "d5c80aaf",
      "metadata": {
        "id": "d5c80aaf"
      },
      "source": [
        "\n",
        "**Prompt:** In 2–3 sentences, what do the surrounding words suggest about how these topics are framed?\n"
      ]
    },
    {
      "cell_type": "code",
      "execution_count": null,
      "id": "ff99be15",
      "metadata": {
        "id": "ff99be15"
      },
      "outputs": [],
      "source": [
        "\n",
        "analysis_notes = \"\"\"\n",
        "(Write your brief interpretation here.)\n",
        "\"\"\"\n",
        "print(analysis_notes)\n"
      ]
    },
    {
      "cell_type": "markdown",
      "id": "a5dfbf37",
      "metadata": {
        "id": "a5dfbf37"
      },
      "source": [
        "\n",
        "## Part D — Dispersion Plot (10 min)\n",
        "Where do topics appear (beginning/middle/end)? Replace terms with 3–5 of your own.\n"
      ]
    },
    {
      "cell_type": "code",
      "execution_count": 76,
      "id": "d213dbeb",
      "metadata": {
        "id": "d213dbeb",
        "colab": {
          "base_uri": "https://localhost:8080/",
          "height": 927
        },
        "outputId": "10f3c8db-e023-4289-8740-ae236a42bc27"
      },
      "outputs": [
        {
          "output_type": "display_data",
          "data": {
            "text/plain": [
              "<Figure size 640x480 with 1 Axes>"
            ],
            "image/png": "[encoded data removed]"
          },
          "metadata": {}
        },
        {
          "output_type": "display_data",
          "data": {
            "text/plain": [
              "<Figure size 640x480 with 1 Axes>"
            ],
            "image/png": "[encoded data removed]"
          },
          "metadata": {}
        }
      ],
      "source": [
        "\n",
        "# NLTK's dispersion_plot uses matplotlib under the hood\n",
        "T.dispersion_plot([\"freedom\", \"security\", \"liberty\", \"america\"])\n",
        "T2.dispersion_plot([\"freedom\", \"security\", \"liberty\", \"america\"])"
      ]
    },
    {
      "cell_type": "markdown",
      "id": "f37b8dff",
      "metadata": {
        "id": "f37b8dff"
      },
      "source": [
        "\n",
        "**Prompt:** What patterns do you notice? Why might this matter for policy framing?\n"
      ]
    },
    {
      "cell_type": "code",
      "execution_count": null,
      "id": "611a3062",
      "metadata": {
        "id": "611a3062"
      },
      "outputs": [],
      "source": [
        "\n",
        "framing_notes = \"\"\"\n",
        "(Write your observations here.)\n",
        "\"\"\"\n",
        "print(framing_notes)\n"
      ]
    },
    {
      "cell_type": "markdown",
      "id": "215840fc",
      "metadata": {
        "id": "215840fc"
      },
      "source": [
        "\n",
        "## Part E — Lexical Diversity (10 min)\n",
        "Lexical diversity = unique words / total words. Use a fixed slice for fair comparisons.\n"
      ]
    },
    {
      "cell_type": "code",
      "execution_count": 73,
      "id": "24ddddea",
      "metadata": {
        "id": "24ddddea",
        "colab": {
          "base_uri": "https://localhost:8080/"
        },
        "outputId": "3fa230a8-67de-4b66-8298-3b07e0dddda7"
      },
      "outputs": [
        {
          "output_type": "stream",
          "name": "stdout",
          "text": [
            "Lexical diversity 2005 Speech: 0.3484\n",
            "Lexical diversity 2001 Speech: 0.3666\n"
          ]
        }
      ],
      "source": [
        "\n",
        "def lexical_diversity(tok_list, n=None):\n",
        "    \"\"\"Return unique/total; if n is provided, compute on first n tokens.\"\"\"\n",
        "    if n:\n",
        "        tok_list = tok_list[:n]\n",
        "    total = len(tok_list) if tok_list else 1\n",
        "    return len(set(tok_list)) / total\n",
        "\n",
        "div_all1 = lexical_diversity(tokens)\n",
        "div_all2 = lexical_diversity(tokens2)\n",
        "print(\"Lexical diversity 2005 Speech:\", round(div_all1, 4))\n",
        "print(\"Lexical diversity 2001 Speech:\", round(div_all2, 4))\n"
      ]
    },
    {
      "cell_type": "markdown",
      "id": "b8e24c2e",
      "metadata": {
        "id": "b8e24c2e"
      },
      "source": [
        "\n",
        "**Why it matters (policy analysis):** Differences in lexical diversity can reflect changes in audience targeting, technicality vs. accessibility, or agenda breadth (e.g., a narrow crisis speech vs. a broad programmatic agenda).  \n",
        "\n",
        "*(Optional)* Compare with a second speech by repeating Part A for another `fileid` and recomputing diversity on the same slice size.\n"
      ]
    },
    {
      "cell_type": "markdown",
      "id": "cc289ee1",
      "metadata": {
        "id": "cc289ee1"
      },
      "source": [
        "\n",
        "## Part F — Reflection (10 min)\n",
        "- Which tool felt most useful for policy analysis (concordance, dispersion, lexical diversity)? Why?  \n",
        "- How could you apply this to a real policy dataset (hearings, legislation, news, social media)?\n"
      ]
    },
    {
      "cell_type": "code",
      "execution_count": null,
      "id": "1ef83bef",
      "metadata": {
        "id": "1ef83bef"
      },
      "outputs": [],
      "source": [
        "\n",
        "final_reflection = \"\"\"\n",
        "(Write your brief reflection here.)\n",
        "\"\"\"\n",
        "print(final_reflection)\n"
      ]
    },
    {
      "cell_type": "markdown",
      "id": "4a38ee4c",
      "metadata": {
        "id": "4a38ee4c"
      },
      "source": [
        "\n",
        "---\n",
        "## 🚀 Stretch Challenges (Optional)\n",
        "\n",
        "### 1) Collocations (common policy phrases)\n",
        "Find frequently co-occurring word pairs (bigrams). These can reveal informative policy phrases (e.g., *national security*, *climate change*).\n"
      ]
    },
    {
      "cell_type": "code",
      "execution_count": null,
      "id": "ccf4b77b",
      "metadata": {
        "id": "ccf4b77b"
      },
      "outputs": [],
      "source": [
        "\n",
        "from nltk.collocations import BigramAssocMeasures, BigramCollocationFinder\n",
        "\n",
        "# Use a filtered token list (already lowercase & alphabetic)\n",
        "finder = BigramCollocationFinder.from_words(tokens)\n",
        "# Only consider reasonably frequent bigrams (adjust min_freq to taste)\n",
        "finder.apply_freq_filter(3)\n",
        "bigrams_pmi = finder.nbest(BigramAssocMeasures.pmi, 15)\n",
        "bigrams_pmi\n"
      ]
    },
    {
      "cell_type": "markdown",
      "id": "bcc38a52",
      "metadata": {
        "id": "bcc38a52"
      },
      "source": [
        "\n",
        "### 2) VADER sentiment on short snippets\n",
        "Useful for very short statements (tweets, headlines). For long speeches, sentiment averages toward neutral.\n"
      ]
    },
    {
      "cell_type": "code",
      "execution_count": null,
      "id": "e0ee8fde",
      "metadata": {
        "id": "e0ee8fde"
      },
      "outputs": [],
      "source": [
        "\n",
        "# VADER is in nltk.sentiment\n",
        "nltk.download('vader_lexicon', quiet=True)\n",
        "from nltk.sentiment import SentimentIntensityAnalyzer\n",
        "\n",
        "sia = SentimentIntensityAnalyzer()\n",
        "\n",
        "samples = [\n",
        "    \"We will rebuild our economy and create jobs.\",\n",
        "    \"War brings hardship and loss.\",\n",
        "    \"Together we can protect our freedoms.\"\n",
        "]\n",
        "\n",
        "for s in samples:\n",
        "    print(s, \"->\", sia.polarity_scores(s))\n"
      ]
    },
    {
      "cell_type": "markdown",
      "id": "f3478974",
      "metadata": {
        "id": "f3478974"
      },
      "source": [
        "\n",
        "### 3) Compare two texts (quick)\n",
        "Repick another `fileid` and compute lexical diversity on the same slice (e.g., 2,000 tokens). What differences do you see?\n"
      ]
    },
    {
      "cell_type": "code",
      "execution_count": null,
      "id": "5a6c18f2",
      "metadata": {
        "id": "5a6c18f2"
      },
      "outputs": [],
      "source": [
        "\n",
        "# Example scaffold:\n",
        "# s2 = fileids[-1]\n",
        "# raw2 = inaugural.raw(s2)\n",
        "# tokens2 = [w.lower() for w in word_tokenize(raw2) if w.isalpha()]\n",
        "# print(\"A:\", s1, \"div(2k) =\", round(lexical_diversity(tokens, 2000), 4))\n",
        "# print(\"B:\", s2, \"div(2k) =\", round(lexical_diversity(tokens2, 2000), 4))\n"
      ]
    },
    {
      "cell_type": "markdown",
      "id": "b32b9bbe",
      "metadata": {
        "id": "b32b9bbe"
      },
      "source": [
        "\n",
        "### 4) Quick frequency table + matplotlib bar chart\n",
        "Show top 15 tokens (after simple cleaning). *Keep charts simple and readable.*\n"
      ]
    },
    {
      "cell_type": "code",
      "execution_count": null,
      "id": "1d139120",
      "metadata": {
        "id": "1d139120"
      },
      "outputs": [],
      "source": [
        "\n",
        "from nltk import FreqDist\n",
        "import matplotlib.pyplot as plt\n",
        "\n",
        "fd = FreqDist(tokens)\n",
        "top = fd.most_common(15)\n",
        "\n",
        "labels, counts = zip(*top)\n",
        "plt.figure(figsize=(10,4))\n",
        "plt.bar(range(len(labels)), counts)\n",
        "plt.xticks(range(len(labels)), labels, rotation=45, ha='right')\n",
        "plt.title(\"Top 15 tokens\")\n",
        "plt.tight_layout()\n",
        "plt.show()\n"
      ]
    }
  ],
  "metadata": {
    "colab": {
      "provenance": [],
      "include_colab_link": true
    },
    "language_info": {
      "name": "python"
    },
    "kernelspec": {
      "name": "python3",
      "display_name": "Python 3"
    }
  },
  "nbformat": 4,
  "nbformat_minor": 5
}